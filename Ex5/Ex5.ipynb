{
 "cells": [
  {
   "cell_type": "code",
   "execution_count": 1,
   "metadata": {},
   "outputs": [],
   "source": [
    "from scipy.io import loadmat\n",
    "import matplotlib.pyplot as plt\n",
    "import numpy as np\n",
    "import scipy.optimize as sco"
   ]
  },
  {
   "cell_type": "markdown",
   "metadata": {},
   "source": [
    "### 1. Regularized Linear Regression"
   ]
  },
  {
   "cell_type": "markdown",
   "metadata": {},
   "source": [
    "### Visualizing the dataset"
   ]
  },
  {
   "cell_type": "code",
   "execution_count": 2,
   "metadata": {},
   "outputs": [
    {
     "data": {
      "text/plain": [
       "Text(0.5, 0, 'Change in Water level')"
      ]
     },
     "execution_count": 2,
     "metadata": {},
     "output_type": "execute_result"
    },
    {
     "data": {
      "image/png": "[encoded data removed]",
      "text/plain": [
       "<Figure size 432x288 with 1 Axes>"
      ]
     },
     "metadata": {
      "needs_background": "light"
     },
     "output_type": "display_data"
    }
   ],
   "source": [
    "dataset = loadmat('ex5data1.mat')\n",
    "X = dataset['X']\n",
    "y = dataset['y']\n",
    "plt.plot(X,y, ls='', markersize=4, marker='o')\n",
    "plt.ylabel(\"Water flow\")\n",
    "plt.xlabel(\"Change in Water level\")"
   ]
  },
  {
   "cell_type": "markdown",
   "metadata": {},
   "source": [
    "### Regularized linear regression cost function"
   ]
  },
  {
   "cell_type": "code",
   "execution_count": 113,
   "metadata": {},
   "outputs": [],
   "source": [
    "def JReg(theta, X, y, lam):\n",
    "    j1 = np.dot(X,theta)-y[:,0] # Theta a 1D array. If not, np.dot will be matrix product\n",
    "    j1 = np.dot(j1,j1)\n",
    "    j2 = lam*np.dot(theta[1:],theta[1:]) \n",
    "    j = j1 + j2\n",
    "    j /= 2*y.shape[0]\n",
    "    return j"
   ]
  },
  {
   "cell_type": "code",
   "execution_count": 4,
   "metadata": {},
   "outputs": [
    {
     "data": {
      "text/plain": [
       "303.9931922202643"
      ]
     },
     "execution_count": 4,
     "metadata": {},
     "output_type": "execute_result"
    }
   ],
   "source": [
    "X_ext = np.hstack((np.ones((X.shape[0],1)), X))\n",
    "theta = np.ones((2))\n",
    "JReg(theta,X_ext,y,1)"
   ]
  },
  {
   "cell_type": "markdown",
   "metadata": {},
   "source": [
    "### Regularized linear regression gradient"
   ]
  },
  {
   "cell_type": "code",
   "execution_count": 5,
   "metadata": {},
   "outputs": [],
   "source": [
    "def gradReg(theta, X, y, lam):\n",
    "    tt = np.zeros_like(theta)\n",
    "    tt[1:] = theta[1:]\n",
    "    # For some reason this leads to a poor minimization...\n",
    "    #lam_greg = theta.copy()\n",
    "    #lam_greg[0]=0\n",
    "    g1 = np.dot(X,theta)-y[:,0] \n",
    "    g = np.dot(g1,X) + lam*tt\n",
    "    return g/y.shape[0]"
   ]
  },
  {
   "cell_type": "code",
   "execution_count": 6,
   "metadata": {},
   "outputs": [
    {
     "data": {
      "text/plain": [
       "array([-15.30301567, 598.25074417])"
      ]
     },
     "execution_count": 6,
     "metadata": {},
     "output_type": "execute_result"
    }
   ],
   "source": [
    "X_ext = np.hstack((np.ones((X.shape[0],1)), X))\n",
    "theta = np.ones((2))\n",
    "gradReg(theta,X_ext,y,1)"
   ]
  },
  {
   "cell_type": "markdown",
   "metadata": {},
   "source": [
    "###  Fitting linear regression"
   ]
  },
  {
   "cell_type": "code",
   "execution_count": 56,
   "metadata": {},
   "outputs": [],
   "source": [
    "def fit(X_ext, y, lam):\n",
    "    mini = sco.minimize(JReg, x0=np.zeros(X_ext.shape[1]), args=(X_ext,y,lam), method='CG', jac=gradReg)\n",
    "    return mini"
   ]
  },
  {
   "cell_type": "code",
   "execution_count": 57,
   "metadata": {},
   "outputs": [
    {
     "data": {
      "text/plain": [
       "[<matplotlib.lines.Line2D at 0x7f870b685eb0>]"
      ]
     },
     "execution_count": 57,
     "metadata": {},
     "output_type": "execute_result"
    },
    {
     "data": {
      "image/png": "[encoded data removed]",
      "text/plain": [
       "<Figure size 432x288 with 1 Axes>"
      ]
     },
     "metadata": {
      "needs_background": "light"
     },
     "output_type": "display_data"
    }
   ],
   "source": [
    "th = fit(X_ext,y,0).x\n",
    "dataset = loadmat('ex5data1.mat')\n",
    "X = dataset['X']\n",
    "y = dataset['y']\n",
    "plt.plot(X,y, ls='', markersize=4, marker='o')\n",
    "plt.ylabel(\"Water flow\")\n",
    "plt.xlabel(\"Change in Water level\")\n",
    "plt.plot(X,np.dot(X_ext,th_fit))"
   ]
  },
  {
   "cell_type": "markdown",
   "metadata": {},
   "source": [
    "### 2. Bias-variance"
   ]
  },
  {
   "cell_type": "code",
   "execution_count": 68,
   "metadata": {},
   "outputs": [],
   "source": [
    "def error(X,y, X_val, y_val, lam):\n",
    "    et, ev = np.zeros(y.shape[0]), np.zeros(y.shape[0])\n",
    "    for i in range(y.shape[0]):\n",
    "        X_train = X[:i+1,:]\n",
    "        y_train = y[:i+1,:]\n",
    "        \n",
    "        th_fit = fit(X_train,y_train,lam).x\n",
    "        \n",
    "        et[i] = JReg(th_fit, X_train, y_train, 0)\n",
    "        h = np.dot(X[:i + 1], th_fit) - y[:i + 1,0]\n",
    "        ev[i] = JReg(th_fit, X_val, y_val, 0)    \n",
    "    return et, ev"
   ]
  },
  {
   "cell_type": "code",
   "execution_count": 59,
   "metadata": {},
   "outputs": [
    {
     "data": {
      "text/plain": [
       "(array([3.94430453e-31, 2.85962078e-30, 3.28659505e+00, 2.84267769e+00,\n",
       "        1.31540488e+01]),\n",
       " array([205.12109575, 110.30036611,  45.01023181,  48.36891137,\n",
       "         35.86514112]))"
      ]
     },
     "execution_count": 59,
     "metadata": {},
     "output_type": "execute_result"
    }
   ],
   "source": [
    "X_val = dataset[\"Xval\"]\n",
    "X_val_ext = np.hstack((np.ones((X_val.shape[0],1)), X_val))\n",
    "y_val = dataset[\"yval\"]\n",
    "et, ev = error(X_ext, y, X_val_ext, y_val)\n",
    "et[:5], ev[:5]"
   ]
  },
  {
   "cell_type": "code",
   "execution_count": 60,
   "metadata": {},
   "outputs": [
    {
     "data": {
      "image/png": "[encoded data removed]",
      "text/plain": [
       "<Figure size 432x288 with 1 Axes>"
      ]
     },
     "metadata": {
      "needs_background": "light"
     },
     "output_type": "display_data"
    }
   ],
   "source": [
    "plt.plot(np.arange(y.shape[0])+1, et)\n",
    "plt.plot(np.arange(y.shape[0])+1, ev)\n",
    "plt.ylim(0,150);"
   ]
  },
  {
   "cell_type": "markdown",
   "metadata": {},
   "source": [
    "### 3. Polynomial regression"
   ]
  },
  {
   "cell_type": "code",
   "execution_count": 61,
   "metadata": {},
   "outputs": [],
   "source": [
    "def poly(X,p):\n",
    "    X_ext = np.zeros((X.shape[0],p))\n",
    "    for i in range(p):\n",
    "        X_ext[:,i] = X.ravel()**(i+1)\n",
    "    return X_ext\n",
    "\n",
    "def norm(arr):\n",
    "    mu = np.mean(arr, axis=0)\n",
    "    std = np.std(arr, ddof=1, axis=0)\n",
    "    return mu, std, (arr - mu)/std"
   ]
  },
  {
   "cell_type": "code",
   "execution_count": 62,
   "metadata": {},
   "outputs": [
    {
     "data": {
      "text/plain": [
       "((21, 9), (12, 9))"
      ]
     },
     "execution_count": 62,
     "metadata": {},
     "output_type": "execute_result"
    }
   ],
   "source": [
    "X_poly = poly(X, 8)\n",
    "mu, std, X_poly = norm(X_poly)\n",
    "X_poly_ext = np.hstack((np.ones((X_poly.shape[0],1)), X_poly))\n",
    "\n",
    "X_poly_val = poly(X_val, 8)\n",
    "X_poly_val = (X_poly_val - mu) / std\n",
    "X_poly_val_ext = np.hstack((np.ones((X_poly_val.shape[0], 1)), X_poly_val))\n",
    "X_poly_val_ext.shape, X_poly_ext.shape"
   ]
  },
  {
   "cell_type": "code",
   "execution_count": 76,
   "metadata": {},
   "outputs": [
    {
     "data": {
      "text/plain": [
       "(array([0.00000000e+00, 8.38164712e-31, 1.91978245e-11, 4.52866261e-20,\n",
       "        5.11950187e-09]),\n",
       " array([160.72189969, 160.12151033,  61.75500548,  61.9288954 ,\n",
       "          6.59987722]))"
      ]
     },
     "execution_count": 76,
     "metadata": {},
     "output_type": "execute_result"
    }
   ],
   "source": [
    "et, ev = error(X_poly_ext, y, X_poly_val_ext, y_val, 0)\n",
    "et[:5], ev[:5]"
   ]
  },
  {
   "cell_type": "markdown",
   "metadata": {},
   "source": [
    "### Learning Polynomial Regression"
   ]
  },
  {
   "cell_type": "code",
   "execution_count": 77,
   "metadata": {},
   "outputs": [
    {
     "data": {
      "text/plain": [
       "[<matplotlib.lines.Line2D at 0x7f870b322370>]"
      ]
     },
     "execution_count": 77,
     "metadata": {},
     "output_type": "execute_result"
    },
    {
     "data": {
      "image/png": "[encoded data removed]",
      "text/plain": [
       "<Figure size 432x288 with 1 Axes>"
      ]
     },
     "metadata": {
      "needs_background": "light"
     },
     "output_type": "display_data"
    }
   ],
   "source": [
    "th_fit_poly = fit(X_poly_ext, y, 0).x\n",
    "\n",
    "X_plot = np.arange(X.min()*1.3, X.max()*1.3, 1)[:, np.newaxis]\n",
    "X_plot_poly = poly(X_plot, 8)\n",
    "X_plot_poly = (X_plot_poly-mu)/std\n",
    "X_plot_poly_ext = np.hstack((np.ones((X_plot_poly.shape[0],1)), X_plot_poly))\n",
    "\n",
    "plt.plot(X,y, ls='', markersize=4, marker='o')\n",
    "plt.plot(X_plot, np.dot(X_plot_poly_ext, th_fit_poly))\n",
    "# Not the same fit that Andrew obtains..."
   ]
  },
  {
   "cell_type": "code",
   "execution_count": 107,
   "metadata": {},
   "outputs": [
    {
     "data": {
      "text/plain": [
       "<matplotlib.legend.Legend at 0x7f870aed09a0>"
      ]
     },
     "execution_count": 107,
     "metadata": {},
     "output_type": "execute_result"
    },
    {
     "data": {
      "image/png": "[encoded data removed]",
      "text/plain": [
       "<Figure size 432x288 with 1 Axes>"
      ]
     },
     "metadata": {
      "needs_background": "light"
     },
     "output_type": "display_data"
    }
   ],
   "source": [
    "plt.plot(et, label='Train error')\n",
    "plt.plot(ev, label='Validation error')\n",
    "plt.legend()"
   ]
  },
  {
   "cell_type": "markdown",
   "metadata": {},
   "source": [
    "### Adjusting the regularization parameter"
   ]
  },
  {
   "cell_type": "markdown",
   "metadata": {},
   "source": [
    "**$\\lambda$=1**"
   ]
  },
  {
   "cell_type": "code",
   "execution_count": 84,
   "metadata": {},
   "outputs": [
    {
     "data": {
      "text/plain": [
       "[<matplotlib.lines.Line2D at 0x7f870b17c880>]"
      ]
     },
     "execution_count": 84,
     "metadata": {},
     "output_type": "execute_result"
    },
    {
     "data": {
      "image/png": "[encoded data removed]",
      "text/plain": [
       "<Figure size 432x288 with 1 Axes>"
      ]
     },
     "metadata": {
      "needs_background": "light"
     },
     "output_type": "display_data"
    }
   ],
   "source": [
    "th_fit_poly = fit(X_poly_ext, y, 1).x\n",
    "\n",
    "X_plot = np.arange(X.min()*1.3, X.max()*1.3, 1)[:, np.newaxis]\n",
    "X_plot_poly = poly(X_plot, 8)\n",
    "X_plot_poly = (X_plot_poly-mu)/std\n",
    "X_plot_poly_ext = np.hstack((np.ones((X_plot_poly.shape[0],1)), X_plot_poly))\n",
    "\n",
    "plt.plot(X,y, ls='', markersize=4, marker='o')\n",
    "plt.plot(X_plot, np.dot(X_plot_poly_ext, th_fit_poly))\n",
    "# Not the same fit that Andrew obtains..."
   ]
  },
  {
   "cell_type": "code",
   "execution_count": 106,
   "metadata": {},
   "outputs": [
    {
     "data": {
      "text/plain": [
       "<matplotlib.legend.Legend at 0x7f870b29ff10>"
      ]
     },
     "execution_count": 106,
     "metadata": {},
     "output_type": "execute_result"
    },
    {
     "data": {
      "image/png": "[encoded data removed]",
      "text/plain": [
       "<Figure size 432x288 with 1 Axes>"
      ]
     },
     "metadata": {
      "needs_background": "light"
     },
     "output_type": "display_data"
    }
   ],
   "source": [
    "et, ev = error(X_poly_ext, y, X_poly_val_ext, y_val, 1)\n",
    "\n",
    "plt.plot(et, label='Train error')\n",
    "plt.plot(ev, label='Validation error')\n",
    "plt.legend()"
   ]
  },
  {
   "cell_type": "markdown",
   "metadata": {},
   "source": [
    "**$\\lambda$=100**"
   ]
  },
  {
   "cell_type": "code",
   "execution_count": 86,
   "metadata": {},
   "outputs": [
    {
     "data": {
      "text/plain": [
       "[<matplotlib.lines.Line2D at 0x7f870b132fa0>]"
      ]
     },
     "execution_count": 86,
     "metadata": {},
     "output_type": "execute_result"
    },
    {
     "data": {
      "image/png": "[encoded data removed]",
      "text/plain": [
       "<Figure size 432x288 with 1 Axes>"
      ]
     },
     "metadata": {
      "needs_background": "light"
     },
     "output_type": "display_data"
    }
   ],
   "source": [
    "th_fit_poly = fit(X_poly_ext, y, 100).x\n",
    "\n",
    "X_plot = np.arange(X.min()*1.3, X.max()*1.3, 1)[:, np.newaxis]\n",
    "X_plot_poly = poly(X_plot, 8)\n",
    "X_plot_poly = (X_plot_poly-mu)/std\n",
    "X_plot_poly_ext = np.hstack((np.ones((X_plot_poly.shape[0],1)), X_plot_poly))\n",
    "\n",
    "plt.plot(X,y, ls='', markersize=4, marker='o')\n",
    "plt.plot(X_plot, np.dot(X_plot_poly_ext, th_fit_poly))\n",
    "# Not the same fit that Andrew obtains..."
   ]
  },
  {
   "cell_type": "markdown",
   "metadata": {},
   "source": [
    "### Selecting λ using a cross validation set"
   ]
  },
  {
   "cell_type": "code",
   "execution_count": 103,
   "metadata": {},
   "outputs": [],
   "source": [
    "l_test = [0, 0.001, 0.003, 0.01, 0.03, 0.1, 0.3, 1, 3, 10]\n",
    "ets, evs = [], []\n",
    "for l in l_test:\n",
    "    et, ev = error(X_poly_ext, y, X_poly_val_ext, y_val, l)\n",
    "    ets.append(et[-1])\n",
    "    evs.append(ev[-1])"
   ]
  },
  {
   "cell_type": "code",
   "execution_count": 109,
   "metadata": {},
   "outputs": [
    {
     "data": {
      "text/plain": [
       "<matplotlib.legend.Legend at 0x7f870ab7bc10>"
      ]
     },
     "execution_count": 109,
     "metadata": {},
     "output_type": "execute_result"
    },
    {
     "data": {
      "image/png": "[encoded data removed]",
      "text/plain": [
       "<Figure size 432x288 with 1 Axes>"
      ]
     },
     "metadata": {
      "needs_background": "light"
     },
     "output_type": "display_data"
    }
   ],
   "source": [
    "plt.plot(l_test, ets, label=\"Train error\")\n",
    "plt.plot(l_test, evs, label=\"Validation error\")\n",
    "plt.legend()"
   ]
  },
  {
   "cell_type": "markdown",
   "metadata": {},
   "source": [
    "### Computing test set error"
   ]
  },
  {
   "cell_type": "code",
   "execution_count": 118,
   "metadata": {},
   "outputs": [
    {
     "data": {
      "text/plain": [
       "((21, 9), (12, 9))"
      ]
     },
     "execution_count": 118,
     "metadata": {},
     "output_type": "execute_result"
    }
   ],
   "source": [
    "X_test = dataset[\"Xtest\"]\n",
    "y_test = dataset[\"ytest\"]\n",
    "\n",
    "lam = 3\n",
    "\n",
    "X_poly = poly(X, 8)\n",
    "mu, std, X_poly = norm(X_poly)\n",
    "X_poly_ext = np.hstack((np.ones((X_poly.shape[0],1)), X_poly))\n",
    "\n",
    "X_poly_test = poly(X_test, 8)\n",
    "X_poly_test = (X_poly_test - mu) / std\n",
    "X_poly_test_ext = np.hstack((np.ones((X_poly_test.shape[0], 1)), X_poly_test))\n",
    "X_poly_test_ext.shape, X_poly_ext.shape"
   ]
  },
  {
   "cell_type": "code",
   "execution_count": 120,
   "metadata": {},
   "outputs": [
    {
     "data": {
      "text/plain": [
       "3.8598878209718515"
      ]
     },
     "execution_count": 120,
     "metadata": {},
     "output_type": "execute_result"
    }
   ],
   "source": [
    "th3 = fit(X_poly_ext, y, lam).x\n",
    "JReg(th3, X_poly_test_ext,y_test,0)"
   ]
  }
 ],
 "metadata": {
  "kernelspec": {
   "display_name": "Python 3",
   "language": "python",
   "name": "python3"
  },
  "language_info": {
   "codemirror_mode": {
    "name": "ipython",
    "version": 3
   },
   "file_extension": ".py",
   "mimetype": "text/x-python",
   "name": "python",
   "nbconvert_exporter": "python",
   "pygments_lexer": "ipython3",
   "version": "3.8.5"
  }
 },
 "nbformat": 4,
 "nbformat_minor": 4
}
